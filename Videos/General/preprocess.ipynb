{
 "cells": [
  {
   "cell_type": "code",
   "execution_count": 8,
   "id": "dcdeda9c-4398-4306-bcdb-583f61a3e491",
   "metadata": {},
   "outputs": [],
   "source": [
    "import numpy as np\n",
    "import pandas as pd\n",
    "import os\n",
    "import matplotlib\n",
    "import seaborn as sns\n",
    "import matplotlib.pyplot as plt\n",
    "from tqdm import tqdm_notebook\n",
    "%matplotlib inline \n",
    "import cv2 as cv"
   ]
  },
  {
   "cell_type": "code",
   "execution_count": 11,
   "id": "7dca6e5a-ee35-4c2d-936e-a6c6aa5b8639",
   "metadata": {},
   "outputs": [
    {
     "name": "stdout",
     "output_type": "stream",
     "text": [
      "Loaded 800 train videos\n",
      "Loaded 200 test videos\n",
      "Loaded 180 validation videos\n"
     ]
    }
   ],
   "source": [
    "# Define paths\n",
    "project_dir = r\"C:\\Users\\install\\Documents\\Project\\Dataset\"\n",
    "train_dir = os.path.join(project_dir, \"train\")\n",
    "test_dir = os.path.join(project_dir, \"test\")\n",
    "validation_dir = os.path.join(project_dir, \"validation\")\n",
    "\n",
    "# Function to load videos from a directory\n",
    "def load_videos_from_directory(directory):\n",
    "    videos = []\n",
    "    labels = []\n",
    "    \n",
    "    for category in [\"real\", \"fake\"]:\n",
    "        category_dir = os.path.join(directory, category)\n",
    "        if not os.path.exists(category_dir):\n",
    "            continue\n",
    "        \n",
    "        for filename in os.listdir(category_dir):\n",
    "            if filename.endswith(\".mp4\") or filename.endswith(\".avi\"):  # Add other video formats if needed\n",
    "                file_path = os.path.join(category_dir, filename)\n",
    "                video = cv.VideoCapture(file_path)\n",
    "                if video.isOpened():\n",
    "                    videos.append(video)  # You can store paths instead if large video files should not be loaded at once\n",
    "                    labels.append(category)  # 'real' or 'fake'\n",
    "                else:\n",
    "                    print(f\"Failed to load {file_path}\")\n",
    "                    \n",
    "    return videos, labels\n",
    "\n",
    "# Load train, test, and validation videos\n",
    "train_videos, train_labels = load_videos_from_directory(train_dir)\n",
    "test_videos, test_labels = load_videos_from_directory(test_dir)\n",
    "validation_videos, validation_labels = load_videos_from_directory(validation_dir)\n",
    "\n",
    "print(f\"Loaded {len(train_videos)} train videos\")\n",
    "print(f\"Loaded {len(test_videos)} test videos\")\n",
    "print(f\"Loaded {len(validation_videos)} validation videos\")\n",
    "\n",
    "\n"
   ]
  },
  {
   "cell_type": "code",
   "execution_count": null,
   "id": "168fddb9-c1e4-4b69-a0d0-c02d58f5064d",
   "metadata": {},
   "outputs": [],
   "source": []
  },
  {
   "cell_type": "code",
   "execution_count": null,
   "id": "421768b4-113a-4955-bb16-406cee4e69d2",
   "metadata": {},
   "outputs": [],
   "source": []
  },
  {
   "cell_type": "code",
   "execution_count": null,
   "id": "29445575-6dc6-45bb-beac-3774ad2016b0",
   "metadata": {},
   "outputs": [],
   "source": []
  }
 ],
 "metadata": {
  "kernelspec": {
   "display_name": "gpuenv",
   "language": "python",
   "name": "python3"
  },
  "language_info": {
   "codemirror_mode": {
    "name": "ipython",
    "version": 3
   },
   "file_extension": ".py",
   "mimetype": "text/x-python",
   "name": "python",
   "nbconvert_exporter": "python",
   "pygments_lexer": "ipython3",
   "version": "3.8.20"
  }
 },
 "nbformat": 4,
 "nbformat_minor": 5
}
