{
 "cells": [
  {
   "cell_type": "code",
   "execution_count": 1,
   "id": "c6748520-9469-4cd7-a2e1-eec98ce37e6c",
   "metadata": {},
   "outputs": [],
   "source": [
    "import os\n",
    "import shutil\n",
    "import random"
   ]
  },
  {
   "cell_type": "code",
   "execution_count": 2,
   "id": "73fc9c5a-d101-4699-b050-95cab22424ad",
   "metadata": {},
   "outputs": [],
   "source": [
    "# Define paths\n",
    "project_dir = r\"C:\\Users\\install\\Documents\\Project\"\n",
    "real_dir = os.path.join(project_dir, \"Real\")\n",
    "fake_dir = os.path.join(project_dir, \"Fake\")\n",
    "train_dir = os.path.join(project_dir, \"train\")\n",
    "test_dir = os.path.join(project_dir, \"test\")\n",
    "validation_dir = os.path.join(project_dir, \"validation\")\n"
   ]
  },
  {
   "cell_type": "code",
   "execution_count": 3,
   "id": "11220193-e727-4bf2-a5fe-5f62985672b1",
   "metadata": {},
   "outputs": [],
   "source": [
    "# Create train, test, and validation directories if they don't exist\n",
    "os.makedirs(os.path.join(train_dir, \"real\"), exist_ok=True)\n",
    "os.makedirs(os.path.join(train_dir, \"fake\"), exist_ok=True)\n",
    "os.makedirs(os.path.join(test_dir, \"real\"), exist_ok=True)\n",
    "os.makedirs(os.path.join(test_dir, \"fake\"), exist_ok=True)\n",
    "os.makedirs(os.path.join(validation_dir, \"real\"), exist_ok=True)\n",
    "os.makedirs(os.path.join(validation_dir, \"fake\"), exist_ok=True)\n"
   ]
  },
  {
   "cell_type": "code",
   "execution_count": 4,
   "id": "ce618a17-a0eb-4e97-a97e-e0ab77b3c80a",
   "metadata": {},
   "outputs": [],
   "source": [
    "# Helper function to move files\n",
    "def move_files(source_dir, dest_dir, num_files):\n",
    "    files = os.listdir(source_dir)\n",
    "    random.shuffle(files)  # Shuffle to ensure randomness\n",
    "    selected_files = files[:num_files]\n",
    "    \n",
    "    for file in selected_files:\n",
    "        src = os.path.join(source_dir, file)\n",
    "        dest = os.path.join(dest_dir, file)\n",
    "        shutil.move(src, dest)"
   ]
  },
  {
   "cell_type": "code",
   "execution_count": 5,
   "id": "08105412-6921-4bb5-954b-fde4c45c77da",
   "metadata": {},
   "outputs": [
    {
     "name": "stdout",
     "output_type": "stream",
     "text": [
      "Files moved successfully!\n"
     ]
    }
   ],
   "source": [
    "# Move 400 real videos to train/real\n",
    "move_files(real_dir, os.path.join(train_dir, \"real\"), 400)\n",
    "\n",
    "# Move 400 fake videos to train/fake\n",
    "move_files(fake_dir, os.path.join(train_dir, \"fake\"), 400)\n",
    "\n",
    "# Move 100 real videos to test/real\n",
    "move_files(real_dir, os.path.join(test_dir, \"real\"), 100)\n",
    "\n",
    "# Move 100 fake videos to test/fake\n",
    "move_files(fake_dir, os.path.join(test_dir, \"fake\"), 100)\n",
    "\n",
    "# Move 90 real videos to validation/real\n",
    "move_files(real_dir, os.path.join(validation_dir, \"real\"), 90)\n",
    "\n",
    "# Move 90 fake videos to validation/fake\n",
    "move_files(fake_dir, os.path.join(validation_dir, \"fake\"), 90)\n",
    "\n",
    "print(\"Files moved successfully!\")"
   ]
  },
  {
   "cell_type": "code",
   "execution_count": null,
   "id": "49e10e2a-385f-4e9a-ab32-b958a2240fda",
   "metadata": {},
   "outputs": [],
   "source": []
  }
 ],
 "metadata": {
  "kernelspec": {
   "display_name": "Python 3 (ipykernel)",
   "language": "python",
   "name": "python3"
  },
  "language_info": {
   "codemirror_mode": {
    "name": "ipython",
    "version": 3
   },
   "file_extension": ".py",
   "mimetype": "text/x-python",
   "name": "python",
   "nbconvert_exporter": "python",
   "pygments_lexer": "ipython3",
   "version": "3.8.20"
  }
 },
 "nbformat": 4,
 "nbformat_minor": 5
}
