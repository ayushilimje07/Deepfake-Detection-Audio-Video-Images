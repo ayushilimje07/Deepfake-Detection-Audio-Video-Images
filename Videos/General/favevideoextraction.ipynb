{
 "cells": [
  {
   "cell_type": "code",
   "execution_count": 1,
   "metadata": {},
   "outputs": [],
   "source": [
    "import os\n",
    "import cv2\n",
    "import numpy as np\n",
    "from tqdm import tqdm\n",
    "import glob\n",
    "from mtcnn import MTCNN\n"
   ]
  },
  {
   "cell_type": "code",
   "execution_count": null,
   "metadata": {},
   "outputs": [],
   "source": [
    "# Helper function to extract frames from videos\n",
    "def frame_extract(path):\n",
    "    vidObj = cv2.VideoCapture(path)\n",
    "    success = True\n",
    "    while success:\n",
    "        success, image = vidObj.read()\n",
    "        if success:\n",
    "            yield image\n",
    "\n",
    "# Create a face detector using MTCNN\n",
    "detector = MTCNN()"
   ]
  },
  {
   "cell_type": "code",
   "execution_count": 2,
   "metadata": {},
   "outputs": [],
   "source": [
    "def create_face_videos(path_list, out_dir):\n",
    "    already_present_count = glob.glob(out_dir + '/*.mp4')\n",
    "    print(\"No of videos already present:\", len(already_present_count))\n",
    "\n",
    "    for path in tqdm(path_list):\n",
    "        video_name = os.path.basename(path)  # Extract the video file name (e.g., id60_0001.mp4)\n",
    "        out_path = os.path.join(out_dir, video_name)  # Join output directory and video file name\n",
    "\n",
    "        if os.path.exists(out_path):\n",
    "            print(f\"File already exists: {out_path}\")\n",
    "            continue\n",
    "\n",
    "        frames = []\n",
    "        # Use H.264 codec (MJPG is replaced with H.264 for better compatibility)\n",
    "        out = cv2.VideoWriter(out_path, cv2.VideoWriter_fourcc(*'avc1'), 30, (112, 112))\n",
    "\n",
    "        for idx, frame in enumerate(frame_extract(path)):\n",
    "            if idx <= 150:  # Limit frames to process, or remove this for full video\n",
    "                frames.append(frame)\n",
    "                if len(frames) == 4:\n",
    "                    # Detect faces using MTCNN\n",
    "                    faces = [detector.detect_faces(f) for f in frames]\n",
    "                    for i, face in enumerate(faces):\n",
    "                        if face:\n",
    "                            x, y, w, h = face[0]['box']\n",
    "                            try:\n",
    "                                face_frame = frames[i][y:y+h, x:x+w]\n",
    "                                out.write(cv2.resize(face_frame, (112, 112)))\n",
    "                            except Exception as e:\n",
    "                                print(f\"Error processing frame: {e}\")\n",
    "                    frames = []\n",
    "\n",
    "        out.release()"
   ]
  },
  {
   "cell_type": "code",
   "execution_count": 3,
   "metadata": {},
   "outputs": [],
   "source": [
    "# Define your paths\n",
    "folders = {\n",
    "    'train_real': (r'C:\\Users\\Systems\\Documents\\dataset\\testing videos\\train\\real', \n",
    "                   r'C:\\Users\\Systems\\Documents\\dataset\\processed_faces\\train_real'),\n",
    "    'train_fake': (r'C:\\Users\\Systems\\Documents\\dataset\\testing videos\\train\\fake', \n",
    "                   r'C:\\Users\\Systems\\Documents\\dataset\\processed_faces\\train_fake'),\n",
    "    'valid_real': (r'C:\\Users\\Systems\\Documents\\dataset\\testing videos\\validation\\real', \n",
    "                   r'C:\\Users\\Systems\\Documents\\dataset\\processed_faces\\validation_real'),\n",
    "    'valid_fake': (r'C:\\Users\\Systems\\Documents\\dataset\\testing videos\\validation\\fake', \n",
    "                   r'C:\\Users\\Systems\\Documents\\dataset\\processed_faces\\validation_fake'),\n",
    "    'test_real': (r'C:\\Users\\Systems\\Documents\\dataset\\testing videos\\test\\real', \n",
    "                  r'C:\\Users\\Systems\\Documents\\dataset\\processed_faces\\test_real'),\n",
    "    'test_fake': (r'C:\\Users\\Systems\\Documents\\dataset\\testing videos\\test\\fake', \n",
    "                  r'C:\\Users\\Systems\\Documents\\dataset\\processed_faces\\test_fake')\n",
    "}\n"
   ]
  },
  {
   "cell_type": "code",
   "execution_count": null,
   "metadata": {},
   "outputs": [],
   "source": [
    "# Function to process multiple folders\n",
    "def process_multiple_folders(folder_dict):\n",
    "    for label, (video_path, output_path) in folder_dict.items():\n",
    "        print(f\"Processing {label} videos...\")\n",
    "        video_files = glob.glob(video_path + '/*.mp4')\n",
    "        os.makedirs(output_path, exist_ok=True)\n",
    "        create_face_videos(video_files, output_path)\n",
    "\n",
    "# Run the process for all folders\n",
    "process_multiple_folders(folders)"
   ]
  },
  {
   "cell_type": "code",
   "execution_count": null,
   "metadata": {},
   "outputs": [],
   "source": []
  },
  {
   "cell_type": "code",
   "execution_count": null,
   "metadata": {},
   "outputs": [],
   "source": []
  },
  {
   "cell_type": "code",
   "execution_count": null,
   "metadata": {},
   "outputs": [],
   "source": []
  },
  {
   "cell_type": "code",
   "execution_count": null,
   "metadata": {},
   "outputs": [],
   "source": []
  }
 ],
 "metadata": {
  "kernelspec": {
   "display_name": "gpuenv",
   "language": "python",
   "name": "python3"
  },
  "language_info": {
   "codemirror_mode": {
    "name": "ipython",
    "version": 3
   },
   "file_extension": ".py",
   "mimetype": "text/x-python",
   "name": "python",
   "nbconvert_exporter": "python",
   "pygments_lexer": "ipython3",
   "version": "3.8.20"
  }
 },
 "nbformat": 4,
 "nbformat_minor": 2
}
