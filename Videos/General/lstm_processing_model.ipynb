{
 "cells": [
  {
   "cell_type": "code",
   "execution_count": 19,
   "metadata": {},
   "outputs": [],
   "source": [
    "from tensorflow.keras.optimizers import Adam\n",
    "from tensorflow.keras.losses import SparseCategoricalCrossentropy\n",
    "from tensorflow.keras.callbacks import ModelCheckpoint, ReduceLROnPlateau\n",
    "from tensorflow.keras.callbacks import EarlyStopping\n",
    "import numpy as np\n",
    "import glob\n",
    "import os"
   ]
  },
  {
   "cell_type": "code",
   "execution_count": 7,
   "metadata": {},
   "outputs": [],
   "source": [
    "from tensorflow.keras.models import Sequential\n",
    "from tensorflow.keras.layers import LSTM, Dropout, Dense, Softmax\n",
    "\n",
    "# Build the LSTM model without GlobalAveragePooling1D\n",
    "def build_lstm_model(sequence_length=80, feature_size=2048):\n",
    "    model = Sequential()\n",
    "    model.add(LSTM(2048, input_shape=(sequence_length, feature_size), return_sequences=False))\n",
    "    model.add(Dropout(0.4))\n",
    "    model.add(Dense(2048, activation='relu'))\n",
    "    model.add(Dense(2048, activation='relu'))\n",
    "    model.add(Dense(2, activation='softmax'))  # Assuming binary classification (real/fake)\n",
    "    return model\n"
   ]
  },
  {
   "cell_type": "code",
   "execution_count": 3,
   "metadata": {},
   "outputs": [
    {
     "name": "stdout",
     "output_type": "stream",
     "text": [
      "Model: \"sequential_1\"\n",
      "_________________________________________________________________\n",
      " Layer (type)                Output Shape              Param #   \n",
      "=================================================================\n",
      " lstm_1 (LSTM)               (None, 2048)              33562624  \n",
      "                                                                 \n",
      " dropout (Dropout)           (None, 2048)              0         \n",
      "                                                                 \n",
      " dense (Dense)               (None, 2048)              4196352   \n",
      "                                                                 \n",
      " dense_1 (Dense)             (None, 2048)              4196352   \n",
      "                                                                 \n",
      " dense_2 (Dense)             (None, 2)                 4098      \n",
      "                                                                 \n",
      "=================================================================\n",
      "Total params: 41,959,426\n",
      "Trainable params: 41,959,426\n",
      "Non-trainable params: 0\n",
      "_________________________________________________________________\n"
     ]
    }
   ],
   "source": [
    "# Sequence length is 80 and each frame has 2048 features\n",
    "input_shape = (80, 2048)\n",
    "lstm_model = build_lstm_model(sequence_length=80, feature_size=2048)\n",
    "lstm_model.summary()\n"
   ]
  },
  {
   "cell_type": "code",
   "execution_count": 4,
   "metadata": {},
   "outputs": [
    {
     "name": "stdout",
     "output_type": "stream",
     "text": [
      "Model: \"sequential_2\"\n",
      "_________________________________________________________________\n",
      " Layer (type)                Output Shape              Param #   \n",
      "=================================================================\n",
      " lstm_2 (LSTM)               (None, 2048)              33562624  \n",
      "                                                                 \n",
      " dropout_1 (Dropout)         (None, 2048)              0         \n",
      "                                                                 \n",
      " dense_3 (Dense)             (None, 2048)              4196352   \n",
      "                                                                 \n",
      " dense_4 (Dense)             (None, 2048)              4196352   \n",
      "                                                                 \n",
      " dense_5 (Dense)             (None, 2)                 4098      \n",
      "                                                                 \n",
      "=================================================================\n",
      "Total params: 41,959,426\n",
      "Trainable params: 41,959,426\n",
      "Non-trainable params: 0\n",
      "_________________________________________________________________\n"
     ]
    }
   ],
   "source": [
    "# Sequence length is 80 and each frame has 2048 features\n",
    "input_shape = (80, 2048)\n",
    "lstm_model = build_lstm_model(sequence_length=80, feature_size=2048)\n",
    "lstm_model.summary()"
   ]
  },
  {
   "cell_type": "code",
   "execution_count": 12,
   "metadata": {},
   "outputs": [],
   "source": [
    "# Mock function to load features from .npy files\n",
    "def load_features(directory):\n",
    "    feature_files = glob.glob(os.path.join(directory, '*.npy'))\n",
    "    features = []\n",
    "    \n",
    "    for file in feature_files:\n",
    "        feature_array = np.load(file)\n",
    "        features.append(feature_array)\n",
    "    \n",
    "    # Stack the features along the first axis (batch size)\n",
    "    return np.vstack(features)"
   ]
  },
  {
   "cell_type": "code",
   "execution_count": 13,
   "metadata": {},
   "outputs": [],
   "source": [
    "# Load training and validation features\n",
    "train_features_real = load_features(r'C:\\Users\\install\\Documents\\Project\\features\\train\\real')\n",
    "train_features_fake = load_features(r'C:\\Users\\install\\Documents\\Project\\features\\train\\fake')"
   ]
  },
  {
   "cell_type": "code",
   "execution_count": 14,
   "metadata": {},
   "outputs": [],
   "source": [
    "# Stack real and fake features and create labels\n",
    "train_features = np.vstack((train_features_real, train_features_fake))\n",
    "train_labels = np.array([1] * train_features_real.shape[0] + [0] * train_features_fake.shape[0])  # 1 for real, 0 for fake"
   ]
  },
  {
   "cell_type": "code",
   "execution_count": 15,
   "metadata": {},
   "outputs": [],
   "source": [
    "valid_features_real = load_features(r'C:\\Users\\install\\Documents\\Project\\features\\valid\\real')\n",
    "valid_features_fake = load_features(r'C:\\Users\\install\\Documents\\Project\\features\\valid\\fake')"
   ]
  },
  {
   "cell_type": "code",
   "execution_count": 16,
   "metadata": {},
   "outputs": [],
   "source": [
    "# Stack validation features and create labels\n",
    "valid_features = np.vstack((valid_features_real, valid_features_fake))\n",
    "valid_labels = np.array([1] * valid_features_real.shape[0] + [0] * valid_features_fake.shape[0])  # 1 for real, 0 for fake"
   ]
  },
  {
   "cell_type": "code",
   "execution_count": 27,
   "metadata": {},
   "outputs": [],
   "source": [
    "# Compile the model\n",
    "lstm_model.compile(\n",
    "    optimizer=Adam(learning_rate=0.0001, decay=0.001),\n",
    "    loss=SparseCategoricalCrossentropy(),\n",
    "    metrics=['accuracy']\n",
    ")"
   ]
  },
  {
   "cell_type": "code",
   "execution_count": 20,
   "metadata": {},
   "outputs": [],
   "source": [
    "early_stopping = EarlyStopping(monitor='val_loss', patience=5, verbose=1, restore_best_weights=True)"
   ]
  },
  {
   "cell_type": "code",
   "execution_count": 23,
   "metadata": {},
   "outputs": [],
   "source": [
    "# Assume train_features is a 2D array of shape (num_samples, 2048)\n",
    "# Reshape it into (num_samples, 80, 2048)\n",
    "# This assumes that each sample has enough frames (80) for the LSTM.\n",
    "\n",
    "num_samples = train_features.shape[0] // 80  # Number of complete sequences you can create\n",
    "train_features_reshaped = train_features[:num_samples * 80].reshape(num_samples, 80, 2048)\n",
    "\n",
    "# Repeat for validation features\n",
    "num_valid_samples = valid_features.shape[0] // 80\n",
    "valid_features_reshaped = valid_features[:num_valid_samples * 80].reshape(num_valid_samples, 80, 2048)\n",
    "\n",
    "# Ensure that the labels correspond to the reshaped features\n",
    "train_labels_reshaped = np.repeat(train_labels[:num_samples * 80], 80)[:train_features_reshaped.shape[0]]\n",
    "valid_labels_reshaped = np.repeat(valid_labels[:num_valid_samples * 80], 80)[:valid_features_reshaped.shape[0]]\n"
   ]
  },
  {
   "cell_type": "code",
   "execution_count": 25,
   "metadata": {},
   "outputs": [
    {
     "name": "stdout",
     "output_type": "stream",
     "text": [
      "Train features shape: (39, 80, 2048)\n",
      "Train labels shape: (39,)\n",
      "Validation features shape: (16, 80, 2048)\n",
      "Validation labels shape: (16,)\n"
     ]
    }
   ],
   "source": [
    "print(\"Train features shape:\", train_features_reshaped.shape)\n",
    "print(\"Train labels shape:\", train_labels_reshaped.shape)\n",
    "print(\"Validation features shape:\", valid_features_reshaped.shape)\n",
    "print(\"Validation labels shape:\", valid_labels_reshaped.shape)"
   ]
  },
  {
   "cell_type": "code",
   "execution_count": 26,
   "metadata": {},
   "outputs": [
    {
     "name": "stdout",
     "output_type": "stream",
     "text": [
      "Train Features NaNs: False\n",
      "Train Features Infs: False\n",
      "Validation Features NaNs: False\n",
      "Validation Features Infs: False\n"
     ]
    }
   ],
   "source": [
    "print(\"Train Features NaNs:\", np.isnan(train_features_reshaped).any())\n",
    "print(\"Train Features Infs:\", np.isinf(train_features_reshaped).any())\n",
    "print(\"Validation Features NaNs:\", np.isnan(valid_features_reshaped).any())\n",
    "print(\"Validation Features Infs:\", np.isinf(valid_features_reshaped).any())"
   ]
  },
  {
   "cell_type": "code",
   "execution_count": 28,
   "metadata": {},
   "outputs": [
    {
     "name": "stdout",
     "output_type": "stream",
     "text": [
      "Epoch 1/15\n",
      "2/2 [==============================] - 2s 797ms/step - loss: 0.0131 - accuracy: 1.0000 - val_loss: 5.9232e-06 - val_accuracy: 1.0000\n",
      "Epoch 2/15\n",
      "2/2 [==============================] - 0s 116ms/step - loss: 2.7785e-06 - accuracy: 1.0000 - val_loss: 1.4901e-08 - val_accuracy: 1.0000\n",
      "Epoch 3/15\n",
      "2/2 [==============================] - 0s 239ms/step - loss: 0.0000e+00 - accuracy: 1.0000 - val_loss: 0.0000e+00 - val_accuracy: 1.0000\n",
      "Epoch 4/15\n",
      "2/2 [==============================] - 0s 52ms/step - loss: 0.0000e+00 - accuracy: 1.0000 - val_loss: 0.0000e+00 - val_accuracy: 1.0000\n",
      "Epoch 5/15\n",
      "2/2 [==============================] - 0s 66ms/step - loss: 0.0000e+00 - accuracy: 1.0000 - val_loss: 0.0000e+00 - val_accuracy: 1.0000\n",
      "Epoch 6/15\n",
      "2/2 [==============================] - 0s 68ms/step - loss: 0.0000e+00 - accuracy: 1.0000 - val_loss: 0.0000e+00 - val_accuracy: 1.0000\n",
      "Epoch 7/15\n",
      "2/2 [==============================] - 0s 58ms/step - loss: 0.0000e+00 - accuracy: 1.0000 - val_loss: 0.0000e+00 - val_accuracy: 1.0000\n",
      "Epoch 8/15\n",
      "1/2 [==============>...............] - ETA: 0s - loss: 0.0000e+00 - accuracy: 1.0000Restoring model weights from the end of the best epoch: 3.\n",
      "2/2 [==============================] - 0s 80ms/step - loss: 0.0000e+00 - accuracy: 1.0000 - val_loss: 0.0000e+00 - val_accuracy: 1.0000\n",
      "Epoch 8: early stopping\n"
     ]
    },
    {
     "data": {
      "text/plain": [
       "<keras.callbacks.History at 0x20a82a8c550>"
      ]
     },
     "execution_count": 28,
     "metadata": {},
     "output_type": "execute_result"
    }
   ],
   "source": [
    "# Train the model using reshaped features\n",
    "lstm_model.fit(\n",
    "    train_features_reshaped, train_labels_reshaped,\n",
    "    validation_data=(valid_features_reshaped, valid_labels_reshaped),\n",
    "    epochs=15,\n",
    "    callbacks=[early_stopping]\n",
    ")\n"
   ]
  },
  {
   "cell_type": "code",
   "execution_count": null,
   "metadata": {},
   "outputs": [],
   "source": []
  }
 ],
 "metadata": {
  "kernelspec": {
   "display_name": "gpuenv",
   "language": "python",
   "name": "python3"
  },
  "language_info": {
   "codemirror_mode": {
    "name": "ipython",
    "version": 3
   },
   "file_extension": ".py",
   "mimetype": "text/x-python",
   "name": "python",
   "nbconvert_exporter": "python",
   "pygments_lexer": "ipython3",
   "version": "3.8.20"
  }
 },
 "nbformat": 4,
 "nbformat_minor": 2
}
