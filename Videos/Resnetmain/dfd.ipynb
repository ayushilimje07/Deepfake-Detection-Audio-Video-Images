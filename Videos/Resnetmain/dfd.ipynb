{
 "cells": [
  {
   "cell_type": "code",
   "execution_count": 1,
   "metadata": {},
   "outputs": [],
   "source": [
    "import os\n",
    "import cv2\n",
    "import pandas as pd\n",
    "import numpy as np\n",
    "from sklearn.model_selection import train_test_split\n",
    "import torch\n",
    "import torch.nn as nn\n",
    "import torch.optim as optim\n",
    "from torch.utils.data import Dataset, DataLoader\n",
    "from torchvision import models, transforms\n",
    "\n",
    "# 1. Preprocess the dataset\n",
    "\n",
    "# Path to your dataset and metadata\n",
    "metadata_path = r'C:\\deepfake videos\\metadata.csv'\n",
    "data_path = r'C:\\deepfake videos\\FF_Face_only_data'\n",
    "\n",
    "# Load metadata\n",
    "metadata = pd.read_csv(metadata_path, header=None)\n",
    "metadata.columns = ['filename', 'label']"
   ]
  },
  {
   "cell_type": "code",
   "execution_count": 2,
   "metadata": {},
   "outputs": [
    {
     "data": {
      "text/html": [
       "<div>\n",
       "<style scoped>\n",
       "    .dataframe tbody tr th:only-of-type {\n",
       "        vertical-align: middle;\n",
       "    }\n",
       "\n",
       "    .dataframe tbody tr th {\n",
       "        vertical-align: top;\n",
       "    }\n",
       "\n",
       "    .dataframe thead th {\n",
       "        text-align: right;\n",
       "    }\n",
       "</style>\n",
       "<table border=\"1\" class=\"dataframe\">\n",
       "  <thead>\n",
       "    <tr style=\"text-align: right;\">\n",
       "      <th></th>\n",
       "      <th>filename</th>\n",
       "      <th>label</th>\n",
       "    </tr>\n",
       "  </thead>\n",
       "  <tbody>\n",
       "    <tr>\n",
       "      <th>0</th>\n",
       "      <td>000.mp4</td>\n",
       "      <td>REAL</td>\n",
       "    </tr>\n",
       "    <tr>\n",
       "      <th>1</th>\n",
       "      <td>000_003.mp4</td>\n",
       "      <td>FAKE</td>\n",
       "    </tr>\n",
       "    <tr>\n",
       "      <th>2</th>\n",
       "      <td>001.mp4</td>\n",
       "      <td>REAL</td>\n",
       "    </tr>\n",
       "    <tr>\n",
       "      <th>3</th>\n",
       "      <td>001_870.mp4</td>\n",
       "      <td>FAKE</td>\n",
       "    </tr>\n",
       "    <tr>\n",
       "      <th>4</th>\n",
       "      <td>002.mp4</td>\n",
       "      <td>REAL</td>\n",
       "    </tr>\n",
       "  </tbody>\n",
       "</table>\n",
       "</div>"
      ],
      "text/plain": [
       "      filename label\n",
       "0      000.mp4  REAL\n",
       "1  000_003.mp4  FAKE\n",
       "2      001.mp4  REAL\n",
       "3  001_870.mp4  FAKE\n",
       "4      002.mp4  REAL"
      ]
     },
     "execution_count": 2,
     "metadata": {},
     "output_type": "execute_result"
    }
   ],
   "source": [
    "metadata.head()"
   ]
  },
  {
   "cell_type": "code",
   "execution_count": 3,
   "metadata": {},
   "outputs": [],
   "source": [
    "def extract_frames(video_path, num_frames=32):\n",
    "    \"\"\"\n",
    "    Extracts a fixed number of frames from a video.\n",
    "    \"\"\"\n",
    "    cap = cv2.VideoCapture(video_path)\n",
    "    frames = []\n",
    "    while cap.isOpened():\n",
    "        ret, frame = cap.read()\n",
    "        if not ret:\n",
    "            break\n",
    "        frames.append(frame)\n",
    "    cap.release()\n",
    "\n",
    "    if len(frames) == 0:\n",
    "        # Skip videos with no frames\n",
    "        print(f\"Warning: No frames extracted from {video_path}. Skipping.\")\n",
    "        return None\n",
    "\n",
    "    if len(frames) >= num_frames:\n",
    "        frame_indices = np.linspace(0, len(frames) - 1, num_frames).astype(int)\n",
    "        selected_frames = [frames[i] for i in frame_indices]\n",
    "    else:\n",
    "        selected_frames = frames + [frames[-1]] * (num_frames - len(frames))\n",
    "\n",
    "    return selected_frames\n"
   ]
  },
  {
   "cell_type": "code",
   "execution_count": 4,
   "metadata": {},
   "outputs": [],
   "source": [
    "# Create a list of video paths and labels\n",
    "video_paths = [os.path.join(data_path, filename) for filename in metadata['filename']]\n",
    "labels = [1 if label == 'FAKE' else 0 for label in metadata['label']]\n"
   ]
  },
  {
   "cell_type": "code",
   "execution_count": 5,
   "metadata": {},
   "outputs": [],
   "source": [
    "# Preprocess and split the data\n",
    "X_train, X_temp, y_train, y_temp = train_test_split(video_paths, labels, test_size=0.3, random_state=42)\n",
    "X_val, X_test, y_val, y_test = train_test_split(X_temp, y_temp, test_size=0.5, random_state=42)"
   ]
  },
  {
   "cell_type": "code",
   "execution_count": 6,
   "metadata": {},
   "outputs": [],
   "source": [
    "import torch\n",
    "from torch.utils.data import Dataset\n",
    "\n",
    "class VideoDataset(Dataset):\n",
    "    def __init__(self, video_paths, labels, transform=None):\n",
    "        self.video_paths = video_paths\n",
    "        self.labels = labels\n",
    "        self.transform = transform\n",
    "\n",
    "    def __len__(self):\n",
    "        return len(self.video_paths)\n",
    "\n",
    "    def __getitem__(self, idx):  \n",
    "        video_path = self.video_paths[idx]\n",
    "        label = self.labels[idx]\n",
    "\n",
    "        frames = extract_frames(video_path)\n",
    "        if frames is None or len(frames) == 0:\n",
    "            # Skip this data point if no frames are extracted\n",
    "            return self.__getitem__((idx + 1) % len(self.video_paths))\n",
    "\n",
    "        if self.transform:\n",
    "            frames = [self.transform(frame) for frame in frames]\n",
    "\n",
    "        frames = torch.stack(frames)\n",
    "\n",
    "        # Ensure the label is a Long tensor (for CrossEntropyLoss)\n",
    "        label = torch.tensor(label, dtype=torch.long)  # Use long type for labels\n",
    "\n",
    "        return frames, label\n"
   ]
  },
  {
   "cell_type": "code",
   "execution_count": 7,
   "metadata": {},
   "outputs": [],
   "source": [
    "import torch\n",
    "import torch.nn as nn\n",
    "from torchvision import models\n",
    "from torch.utils.checkpoint import checkpoint\n",
    "class DeepFakeDetector(nn.Module):\n",
    "    def __init__(self):\n",
    "        super(DeepFakeDetector, self).__init__()\n",
    "        self.resnext = models.resnext50_32x4d(weights='ResNeXt50_32X4D_Weights.IMAGENET1K_V1')\n",
    "        self.resnext = nn.Sequential(*list(self.resnext.children())[:-2])\n",
    "        self.adaptive_pool = nn.AdaptiveAvgPool2d((1, 1))\n",
    "        self.lstm = nn.LSTM(2048, 2048, batch_first=True)\n",
    "        self.linear = nn.Linear(2048, 1)  # Output 1 for binary classification\n",
    "        # No softmax here\n",
    "\n",
    "    def forward(self, x):\n",
    "        batch_size, num_frames, channels, height, width = x.size()\n",
    "        x = x.view(batch_size * num_frames, channels, height, width)\n",
    "        features = checkpoint(self.resnext, x)\n",
    "        features = self.adaptive_pool(features)\n",
    "        features = torch.flatten(features, start_dim=1)\n",
    "        features = features.view(batch_size, num_frames, -1)\n",
    "        lstm_output, _ = self.lstm(features)\n",
    "        lstm_output = lstm_output[:, -1, :]\n",
    "        output = self.linear(lstm_output)\n",
    "        return output  # Return logits directly\n"
   ]
  },
  {
   "cell_type": "code",
   "execution_count": 8,
   "metadata": {},
   "outputs": [],
   "source": [
    "transform = transforms.Compose([\n",
    "    transforms.ToPILImage(),\n",
    "    transforms.Resize((112, 112)),  # Reduced size\n",
    "    transforms.ToTensor(),\n",
    "    transforms.Normalize(mean=[0.485, 0.456, 0.406], std=[0.229, 0.224, 0.225]),\n",
    "])\n"
   ]
  },
  {
   "cell_type": "code",
   "execution_count": 9,
   "metadata": {},
   "outputs": [],
   "source": [
    "# Create datasets and dataloaders\n",
    "train_dataset = VideoDataset(X_train, y_train, transform=transform)\n",
    "val_dataset = VideoDataset(X_val, y_val, transform=transform)\n",
    "test_dataset = VideoDataset(X_test, y_test, transform=transform)\n",
    "\n",
    "train_dataloader = DataLoader(train_dataset, batch_size=8, shuffle=True,pin_memory=True)\n",
    "val_dataloader = DataLoader(val_dataset, batch_size=8, shuffle=False,pin_memory=True)\n",
    "test_dataloader = DataLoader(test_dataset, batch_size=8, shuffle=False,pin_memory=True)\n"
   ]
  },
  {
   "cell_type": "code",
   "execution_count": 15,
   "metadata": {},
   "outputs": [],
   "source": [
    "# Initialize the model, loss function, and optimizer\n",
    "import torch.optim as optim\n",
    "model = DeepFakeDetector()\n",
    "if torch.cuda.is_available():\n",
    "    model = model.cuda()\n",
    "criterion = nn.BCEWithLogitsLoss()\n",
    "optimizer = optim.Adam(model.parameters())\n",
    "\n"
   ]
  },
  {
   "cell_type": "code",
   "execution_count": 10,
   "metadata": {},
   "outputs": [
    {
     "name": "stdout",
     "output_type": "stream",
     "text": [
      "GPU is available! PyTorch is using NVIDIA GeForce RTX 3050 Laptop GPU\n"
     ]
    }
   ],
   "source": [
    "import torch\n",
    "\n",
    "# Check if GPU is available\n",
    "if torch.cuda.is_available():\n",
    "    print(\"GPU is available! PyTorch is using\", torch.cuda.get_device_name(0))\n",
    "else:\n",
    "    print(\"GPU is not available. Using CPU.\")"
   ]
  },
  {
   "cell_type": "code",
   "execution_count": 11,
   "metadata": {},
   "outputs": [],
   "source": [
    "def evaluate(model, dataloader, criterion):\n",
    "    model.eval()  # Set model to evaluation mode\n",
    "    val_loss = 0\n",
    "    correct_val_predictions = 0\n",
    "    total_val_samples = 0\n",
    "\n",
    "    with torch.no_grad():  # Disable gradient tracking for validation\n",
    "        for frames, labels in dataloader:\n",
    "            frames, labels = frames.cuda(), labels.cuda()  # Move data to GPU\n",
    "\n",
    "            outputs = model(frames)  # Forward pass\n",
    "            labels = labels.float().view(-1, 1)  # Reshape labels to [batch_size, 1]\n",
    "            loss = criterion(outputs, labels)  # Compute the loss\n",
    "\n",
    "            val_loss += loss.item()  # Accumulate loss\n",
    "\n",
    "            # Apply sigmoid and round to get predictions\n",
    "            predicted = torch.round(torch.sigmoid(outputs)).view(-1)  # Flatten to [batch_size]\n",
    "            correct_val_predictions += (predicted == labels.view(-1)).sum().item()  # Compare flattened\n",
    "            total_val_samples += labels.size(0)  # Count total samples\n",
    "\n",
    "    avg_val_loss = val_loss / len(dataloader)\n",
    "    val_accuracy = correct_val_predictions / total_val_samples  # Calculate accuracy\n",
    "\n",
    "    return avg_val_loss, val_accuracy\n"
   ]
  },
  {
   "cell_type": "code",
   "execution_count": null,
   "metadata": {},
   "outputs": [],
   "source": []
  },
  {
   "cell_type": "code",
   "execution_count": 13,
   "metadata": {},
   "outputs": [],
   "source": [
    "print(f\"Model is on device: {next(model.parameters()).device}\")"
   ]
  },
  {
   "cell_type": "code",
   "execution_count": 14,
   "metadata": {},
   "outputs": [],
   "source": [
    "# Clear CUDA cache before training\n",
    "torch.cuda.empty_cache()"
   ]
  },
  {
   "cell_type": "code",
   "execution_count": 26,
   "metadata": {},
   "outputs": [
    {
     "name": "stderr",
     "output_type": "stream",
     "text": [
      "C:\\Users\\Atharva\\AppData\\Local\\Temp\\ipykernel_22436\\106862568.py:1: FutureWarning: `torch.cuda.amp.GradScaler(args...)` is deprecated. Please use `torch.amp.GradScaler('cuda', args...)` instead.\n",
      "  scaler = torch.cuda.amp.GradScaler()\n",
      "C:\\Users\\Atharva\\AppData\\Local\\Temp\\ipykernel_22436\\106862568.py:15: FutureWarning: `torch.cuda.amp.autocast(args...)` is deprecated. Please use `torch.amp.autocast('cuda', args...)` instead.\n",
      "  with torch.cuda.amp.autocast():\n"
     ]
    },
    {
     "name": "stdout",
     "output_type": "stream",
     "text": [
      "Warning: No frames extracted from C:\\deepfake videos\\FF_Face_only_data\\671.mp4. Skipping.\n",
      "Warning: No frames extracted from C:\\deepfake videos\\FF_Face_only_data\\501_326.mp4. Skipping.\n",
      "Warning: No frames extracted from C:\\deepfake videos\\FF_Face_only_data\\849.mp4. Skipping.\n",
      "Warning: No frames extracted from C:\\deepfake videos\\FF_Face_only_data\\618.mp4. Skipping.\n",
      "Warning: No frames extracted from C:\\deepfake videos\\FF_Face_only_data\\488_399.mp4. Skipping.\n",
      "Warning: No frames extracted from C:\\deepfake videos\\FF_Face_only_data\\145.mp4. Skipping.\n",
      "Warning: No frames extracted from C:\\deepfake videos\\FF_Face_only_data\\282.mp4. Skipping.\n",
      "Warning: No frames extracted from C:\\deepfake videos\\FF_Face_only_data\\136_285.mp4. Skipping.\n",
      "Epoch [1/10]\n",
      "Train Loss: 0.5663, Train Accuracy: 0.7171\n",
      "Validation Loss: 0.5760, Validation Accuracy: 0.7267\n",
      "--------------------------------------------------\n",
      "Warning: No frames extracted from C:\\deepfake videos\\FF_Face_only_data\\618.mp4. Skipping.\n",
      "Warning: No frames extracted from C:\\deepfake videos\\FF_Face_only_data\\145.mp4. Skipping.\n",
      "Warning: No frames extracted from C:\\deepfake videos\\FF_Face_only_data\\488_399.mp4. Skipping.\n",
      "Warning: No frames extracted from C:\\deepfake videos\\FF_Face_only_data\\671.mp4. Skipping.\n",
      "Warning: No frames extracted from C:\\deepfake videos\\FF_Face_only_data\\849.mp4. Skipping.\n",
      "Warning: No frames extracted from C:\\deepfake videos\\FF_Face_only_data\\282.mp4. Skipping.\n",
      "Warning: No frames extracted from C:\\deepfake videos\\FF_Face_only_data\\501_326.mp4. Skipping.\n",
      "Warning: No frames extracted from C:\\deepfake videos\\FF_Face_only_data\\136_285.mp4. Skipping.\n",
      "Epoch [2/10]\n",
      "Train Loss: 0.5184, Train Accuracy: 0.7557\n",
      "Validation Loss: 0.5921, Validation Accuracy: 0.7333\n",
      "--------------------------------------------------\n",
      "Warning: No frames extracted from C:\\deepfake videos\\FF_Face_only_data\\849.mp4. Skipping.\n",
      "Warning: No frames extracted from C:\\deepfake videos\\FF_Face_only_data\\145.mp4. Skipping.\n",
      "Warning: No frames extracted from C:\\deepfake videos\\FF_Face_only_data\\671.mp4. Skipping.\n",
      "Warning: No frames extracted from C:\\deepfake videos\\FF_Face_only_data\\501_326.mp4. Skipping.\n",
      "Warning: No frames extracted from C:\\deepfake videos\\FF_Face_only_data\\282.mp4. Skipping.\n",
      "Warning: No frames extracted from C:\\deepfake videos\\FF_Face_only_data\\618.mp4. Skipping.\n",
      "Warning: No frames extracted from C:\\deepfake videos\\FF_Face_only_data\\488_399.mp4. Skipping.\n",
      "Warning: No frames extracted from C:\\deepfake videos\\FF_Face_only_data\\136_285.mp4. Skipping.\n",
      "Epoch [3/10]\n",
      "Train Loss: 0.5162, Train Accuracy: 0.7529\n",
      "Validation Loss: 0.5753, Validation Accuracy: 0.6900\n",
      "--------------------------------------------------\n",
      "Warning: No frames extracted from C:\\deepfake videos\\FF_Face_only_data\\501_326.mp4. Skipping.\n",
      "Warning: No frames extracted from C:\\deepfake videos\\FF_Face_only_data\\671.mp4. Skipping.\n",
      "Warning: No frames extracted from C:\\deepfake videos\\FF_Face_only_data\\618.mp4. Skipping.\n",
      "Warning: No frames extracted from C:\\deepfake videos\\FF_Face_only_data\\488_399.mp4. Skipping.\n",
      "Warning: No frames extracted from C:\\deepfake videos\\FF_Face_only_data\\282.mp4. Skipping.\n",
      "Warning: No frames extracted from C:\\deepfake videos\\FF_Face_only_data\\145.mp4. Skipping.\n",
      "Warning: No frames extracted from C:\\deepfake videos\\FF_Face_only_data\\849.mp4. Skipping.\n",
      "Warning: No frames extracted from C:\\deepfake videos\\FF_Face_only_data\\136_285.mp4. Skipping.\n",
      "Epoch [4/10]\n",
      "Train Loss: 0.5218, Train Accuracy: 0.7507\n",
      "Validation Loss: 0.5628, Validation Accuracy: 0.7367\n",
      "--------------------------------------------------\n",
      "Warning: No frames extracted from C:\\deepfake videos\\FF_Face_only_data\\618.mp4. Skipping.\n",
      "Warning: No frames extracted from C:\\deepfake videos\\FF_Face_only_data\\488_399.mp4. Skipping.\n",
      "Warning: No frames extracted from C:\\deepfake videos\\FF_Face_only_data\\849.mp4. Skipping.\n",
      "Warning: No frames extracted from C:\\deepfake videos\\FF_Face_only_data\\145.mp4. Skipping.\n",
      "Warning: No frames extracted from C:\\deepfake videos\\FF_Face_only_data\\501_326.mp4. Skipping.\n",
      "Warning: No frames extracted from C:\\deepfake videos\\FF_Face_only_data\\671.mp4. Skipping.\n",
      "Warning: No frames extracted from C:\\deepfake videos\\FF_Face_only_data\\282.mp4. Skipping.\n",
      "Warning: No frames extracted from C:\\deepfake videos\\FF_Face_only_data\\136_285.mp4. Skipping.\n",
      "Epoch [5/10]\n",
      "Train Loss: 0.4812, Train Accuracy: 0.7707\n",
      "Validation Loss: 0.5582, Validation Accuracy: 0.7433\n",
      "--------------------------------------------------\n",
      "Warning: No frames extracted from C:\\deepfake videos\\FF_Face_only_data\\282.mp4. Skipping.\n",
      "Warning: No frames extracted from C:\\deepfake videos\\FF_Face_only_data\\671.mp4. Skipping.\n",
      "Warning: No frames extracted from C:\\deepfake videos\\FF_Face_only_data\\488_399.mp4. Skipping.\n",
      "Warning: No frames extracted from C:\\deepfake videos\\FF_Face_only_data\\145.mp4. Skipping.\n",
      "Warning: No frames extracted from C:\\deepfake videos\\FF_Face_only_data\\849.mp4. Skipping.\n",
      "Warning: No frames extracted from C:\\deepfake videos\\FF_Face_only_data\\618.mp4. Skipping.\n",
      "Warning: No frames extracted from C:\\deepfake videos\\FF_Face_only_data\\501_326.mp4. Skipping.\n",
      "Warning: No frames extracted from C:\\deepfake videos\\FF_Face_only_data\\136_285.mp4. Skipping.\n",
      "Epoch [6/10]\n",
      "Train Loss: 0.5057, Train Accuracy: 0.7629\n",
      "Validation Loss: 0.5471, Validation Accuracy: 0.7133\n",
      "--------------------------------------------------\n",
      "Warning: No frames extracted from C:\\deepfake videos\\FF_Face_only_data\\488_399.mp4. Skipping.\n",
      "Warning: No frames extracted from C:\\deepfake videos\\FF_Face_only_data\\618.mp4. Skipping.\n",
      "Warning: No frames extracted from C:\\deepfake videos\\FF_Face_only_data\\849.mp4. Skipping.\n",
      "Warning: No frames extracted from C:\\deepfake videos\\FF_Face_only_data\\282.mp4. Skipping.\n",
      "Warning: No frames extracted from C:\\deepfake videos\\FF_Face_only_data\\501_326.mp4. Skipping.\n",
      "Warning: No frames extracted from C:\\deepfake videos\\FF_Face_only_data\\145.mp4. Skipping.\n",
      "Warning: No frames extracted from C:\\deepfake videos\\FF_Face_only_data\\671.mp4. Skipping.\n",
      "Warning: No frames extracted from C:\\deepfake videos\\FF_Face_only_data\\136_285.mp4. Skipping.\n",
      "Epoch [7/10]\n",
      "Train Loss: 0.4650, Train Accuracy: 0.7864\n",
      "Validation Loss: 0.5644, Validation Accuracy: 0.7400\n",
      "--------------------------------------------------\n",
      "Warning: No frames extracted from C:\\deepfake videos\\FF_Face_only_data\\849.mp4. Skipping.\n",
      "Warning: No frames extracted from C:\\deepfake videos\\FF_Face_only_data\\282.mp4. Skipping.\n",
      "Warning: No frames extracted from C:\\deepfake videos\\FF_Face_only_data\\501_326.mp4. Skipping.\n",
      "Warning: No frames extracted from C:\\deepfake videos\\FF_Face_only_data\\145.mp4. Skipping.\n",
      "Warning: No frames extracted from C:\\deepfake videos\\FF_Face_only_data\\488_399.mp4. Skipping.\n",
      "Warning: No frames extracted from C:\\deepfake videos\\FF_Face_only_data\\618.mp4. Skipping.\n",
      "Warning: No frames extracted from C:\\deepfake videos\\FF_Face_only_data\\671.mp4. Skipping.\n",
      "Warning: No frames extracted from C:\\deepfake videos\\FF_Face_only_data\\136_285.mp4. Skipping.\n",
      "Epoch [8/10]\n",
      "Train Loss: 0.4545, Train Accuracy: 0.7907\n",
      "Validation Loss: 0.5482, Validation Accuracy: 0.7300\n",
      "--------------------------------------------------\n",
      "Warning: No frames extracted from C:\\deepfake videos\\FF_Face_only_data\\618.mp4. Skipping.\n",
      "Warning: No frames extracted from C:\\deepfake videos\\FF_Face_only_data\\282.mp4. Skipping.\n",
      "Warning: No frames extracted from C:\\deepfake videos\\FF_Face_only_data\\849.mp4. Skipping.\n",
      "Warning: No frames extracted from C:\\deepfake videos\\FF_Face_only_data\\488_399.mp4. Skipping.\n",
      "Warning: No frames extracted from C:\\deepfake videos\\FF_Face_only_data\\671.mp4. Skipping.\n",
      "Warning: No frames extracted from C:\\deepfake videos\\FF_Face_only_data\\145.mp4. Skipping.\n",
      "Warning: No frames extracted from C:\\deepfake videos\\FF_Face_only_data\\501_326.mp4. Skipping.\n",
      "Warning: No frames extracted from C:\\deepfake videos\\FF_Face_only_data\\136_285.mp4. Skipping.\n",
      "Epoch [9/10]\n",
      "Train Loss: 0.4582, Train Accuracy: 0.7921\n",
      "Validation Loss: 0.5331, Validation Accuracy: 0.7667\n",
      "--------------------------------------------------\n",
      "Warning: No frames extracted from C:\\deepfake videos\\FF_Face_only_data\\145.mp4. Skipping.\n",
      "Warning: No frames extracted from C:\\deepfake videos\\FF_Face_only_data\\282.mp4. Skipping.\n",
      "Warning: No frames extracted from C:\\deepfake videos\\FF_Face_only_data\\849.mp4. Skipping.\n",
      "Warning: No frames extracted from C:\\deepfake videos\\FF_Face_only_data\\618.mp4. Skipping.\n",
      "Warning: No frames extracted from C:\\deepfake videos\\FF_Face_only_data\\671.mp4. Skipping.\n",
      "Warning: No frames extracted from C:\\deepfake videos\\FF_Face_only_data\\501_326.mp4. Skipping.\n",
      "Warning: No frames extracted from C:\\deepfake videos\\FF_Face_only_data\\488_399.mp4. Skipping.\n",
      "Warning: No frames extracted from C:\\deepfake videos\\FF_Face_only_data\\136_285.mp4. Skipping.\n",
      "Epoch [10/10]\n",
      "Train Loss: 0.4821, Train Accuracy: 0.7707\n",
      "Validation Loss: 0.5694, Validation Accuracy: 0.7333\n",
      "--------------------------------------------------\n"
     ]
    }
   ],
   "source": [
    "scaler = torch.cuda.amp.GradScaler()\n",
    "num_epochs = 10\n",
    "for epoch in range(num_epochs):\n",
    "    model.train()\n",
    "    train_loss = 0\n",
    "    correct_train_predictions = 0\n",
    "    total_train_samples = 0\n",
    "\n",
    "    for frames, labels in train_dataloader:\n",
    "        frames, labels = frames.cuda(), labels.cuda()  # Move data to GPU\n",
    "\n",
    "        optimizer.zero_grad()\n",
    "\n",
    "        # Use autocast to automatically manage precision\n",
    "        with torch.cuda.amp.autocast():\n",
    "            outputs = model(frames)  # Model output should be [batch_size, 1]\n",
    "            labels = labels.float().view(-1, 1)  # Reshape labels to [batch_size, 1]\n",
    "            loss = criterion(outputs, labels)  # Compute the loss\n",
    "\n",
    "        scaler.scale(loss).backward()  # Scale the loss\n",
    "        scaler.step(optimizer)  # Update weights\n",
    "        scaler.update()  # Update the scaler\n",
    "\n",
    "        train_loss += loss.item()\n",
    "\n",
    "        # Calculate training accuracy\n",
    "        # Calculate training accuracy\n",
    "        predicted = torch.round(torch.sigmoid(outputs)).view(-1)  # Flatten to [batch_size]\n",
    "        correct_train_predictions += (predicted == labels.view(-1)).sum().item()  # Compare flattened\n",
    "        total_train_samples += labels.size(0)  # Count total samples\n",
    "\n",
    "\n",
    "    avg_train_loss = train_loss / len(train_dataloader)\n",
    "    train_accuracy = correct_train_predictions / total_train_samples\n",
    "\n",
    "    # Validation phase\n",
    "    val_loss, val_accuracy = evaluate(model, val_dataloader, criterion)\n",
    "\n",
    "    # Print epoch progress\n",
    "    print(f\"Epoch [{epoch+1}/{num_epochs}]\")\n",
    "    print(f\"Train Loss: {avg_train_loss:.4f}, Train Accuracy: {train_accuracy:.4f}\")\n",
    "    print(f\"Validation Loss: {val_loss:.4f}, Validation Accuracy: {val_accuracy:.4f}\")\n",
    "    print(\"-\" * 50)\n"
   ]
  },
  {
   "cell_type": "code",
   "execution_count": 29,
   "metadata": {},
   "outputs": [
    {
     "data": {
      "image/png": "[encoded data removed]",
      "text/plain": [
       "<Figure size 1200x500 with 2 Axes>"
      ]
     },
     "metadata": {},
     "output_type": "display_data"
    }
   ],
   "source": [
    "import matplotlib.pyplot as plt\n",
    "\n",
    "# Extracted metrics\n",
    "train_losses = [0.5663, 0.5184, 0.5162, 0.5218, 0.4812, 0.5057, 0.4650, 0.4545, 0.4582, 0.4821]\n",
    "val_losses = [0.5760, 0.5921, 0.5753, 0.5628, 0.5582, 0.5471, 0.5644, 0.5482, 0.5331, 0.5694]\n",
    "train_accuracies = [0.7171, 0.7557, 0.7529, 0.7507, 0.7707, 0.7629, 0.7864, 0.7907, 0.7921, 0.7707]\n",
    "val_accuracies = [0.7267, 0.7333, 0.6900, 0.7367, 0.7433, 0.7133, 0.7400, 0.7300, 0.7667, 0.7333]\n",
    "\n",
    "# Number of epochs\n",
    "epochs = range(1, len(train_losses) + 1)\n",
    "\n",
    "# Plotting the Accuracy\n",
    "plt.figure(figsize=(12, 5))\n",
    "plt.subplot(1, 2, 1)\n",
    "plt.plot(epochs, train_accuracies, label='Training Accuracy', marker='o')\n",
    "plt.plot(epochs, val_accuracies, label='Validation Accuracy', marker='o')\n",
    "plt.title('Training and Validation Accuracy')\n",
    "plt.xlabel('Epochs')\n",
    "plt.ylabel('Accuracy')\n",
    "plt.ylim(0, 1)\n",
    "plt.legend()\n",
    "\n",
    "# Plotting the Loss\n",
    "plt.subplot(1, 2, 2)\n",
    "plt.plot(epochs, train_losses, label='Training Loss', marker='o')\n",
    "plt.plot(epochs, val_losses, label='Validation Loss', marker='o')\n",
    "plt.title('Training and Validation Loss')\n",
    "plt.xlabel('Epochs')\n",
    "plt.ylabel('Loss')\n",
    "plt.ylim(0, max(max(train_losses), max(val_losses)) + 0.1)  # Adjust y-axis limit\n",
    "plt.legend()\n",
    "\n",
    "plt.tight_layout()\n",
    "plt.show()\n"
   ]
  },
  {
   "cell_type": "code",
   "execution_count": 30,
   "metadata": {},
   "outputs": [],
   "source": [
    "# After training your model, save the state dictionary\n",
    "torch.save(model.state_dict(), r'C:\\deepfake videos\\models\\dfd_model_weights.pth')"
   ]
  },
  {
   "cell_type": "code",
   "execution_count": 31,
   "metadata": {},
   "outputs": [],
   "source": [
    "torch.save(model, r'C:\\deepfake videos\\models\\dfd_model.pth')"
   ]
  },
  {
   "cell_type": "code",
   "execution_count": 41,
   "metadata": {},
   "outputs": [
    {
     "name": "stdout",
     "output_type": "stream",
     "text": [
      "True\n"
     ]
    }
   ],
   "source": [
    "import os\n",
    "\n",
    "# Check if the model file exists\n",
    "model_path = r'C:\\deepfake videos\\models\\dfd_model.pth'\n",
    "print(os.path.exists(model_path))  # Should print True if the file exists\n"
   ]
  },
  {
   "cell_type": "code",
   "execution_count": 17,
   "metadata": {},
   "outputs": [
    {
     "name": "stderr",
     "output_type": "stream",
     "text": [
      "C:\\Users\\Atharva\\AppData\\Local\\Temp\\ipykernel_15892\\1964407476.py:3: FutureWarning: You are using `torch.load` with `weights_only=False` (the current default value), which uses the default pickle module implicitly. It is possible to construct malicious pickle data which will execute arbitrary code during unpickling (See https://github.com/pytorch/pytorch/blob/main/SECURITY.md#untrusted-models for more details). In a future release, the default value for `weights_only` will be flipped to `True`. This limits the functions that could be executed during unpickling. Arbitrary objects will no longer be allowed to be loaded via this mode unless they are explicitly allowlisted by the user via `torch.serialization.add_safe_globals`. We recommend you start setting `weights_only=True` for any use case where you don't have full control of the loaded file. Please open an issue on GitHub for any issues related to this experimental feature.\n",
      "  model = torch.load(r'C:\\deepfake videos\\models\\dfd_model.pth', map_location=device)\n"
     ]
    },
    {
     "name": "stdout",
     "output_type": "stream",
     "text": [
      "Warning: No frames extracted from C:\\deepfake videos\\FF_Face_only_data\\965.mp4. Skipping.\n",
      "Warning: No frames extracted from C:\\deepfake videos\\FF_Face_only_data\\759.mp4. Skipping.\n",
      "Warning: No frames extracted from C:\\deepfake videos\\FF_Face_only_data\\305_513.mp4. Skipping.\n",
      "Test Loss: 0.6365\n",
      "Test Accuracy: 71.00%\n"
     ]
    }
   ],
   "source": [
    "# Load the entire model\n",
    "device = torch.device(\"cuda\" if torch.cuda.is_available() else \"cpu\")\n",
    "model = torch.load(r'C:\\deepfake videos\\models\\dfd_model.pth', map_location=device)\n",
    "model.to(device)  # Move the model to the appropriate device\n",
    "model.eval()  # Set the model to evaluation mode\n",
    "criterion = nn.BCEWithLogitsLoss()\n",
    "optimizer = optim.Adam(model.parameters())\n",
    "# Initialize variables for test loss and accuracy\n",
    "test_loss = 0.0\n",
    "correct_predictions = 0\n",
    "total_predictions = 0\n",
    "true_labels = []\n",
    "predicted_labels = []\n",
    "\n",
    "# No gradient calculation needed during testing\n",
    "with torch.no_grad():\n",
    "    for video, labels in test_dataloader:\n",
    "        video = video.to(device).float()  # Ensure video is float\n",
    "        labels = labels.to(device).float().view(-1, 1)  # Ensure labels are reshaped for comparison\n",
    "\n",
    "        # Forward pass\n",
    "        outputs = model(video)\n",
    "\n",
    "        # Apply sigmoid to the outputs to get probabilities\n",
    "        outputs = torch.sigmoid(outputs)\n",
    "\n",
    "        # Calculate loss\n",
    "        loss = criterion(outputs, labels)  # Compute the loss\n",
    "        test_loss += loss.item()\n",
    "\n",
    "        # Get predictions\n",
    "        predicted = torch.round(outputs).view(-1)  # Assuming binary classification\n",
    "        true_labels.extend(labels.view(-1).cpu().numpy())  # Collect true labels\n",
    "        predicted_labels.extend(predicted.cpu().numpy()) \n",
    "        correct_predictions += (predicted == labels.view(-1)).sum().item()\n",
    "        total_predictions += labels.size(0)\n",
    "\n",
    "# Calculate average loss and accuracy\n",
    "average_test_loss = test_loss / len(test_dataloader)\n",
    "accuracy = correct_predictions / total_predictions\n",
    "\n",
    "# Print results\n",
    "print(f'Test Loss: {average_test_loss:.4f}')\n",
    "print(f'Test Accuracy: {accuracy * 100:.2f}%')\n"
   ]
  },
  {
   "cell_type": "markdown",
   "metadata": {},
   "source": [
    "#Code for testing the trained model"
   ]
  },
  {
   "cell_type": "code",
   "execution_count": 18,
   "metadata": {},
   "outputs": [
    {
     "data": {
      "image/png": "[encoded data removed]",
      "text/plain": [
       "<Figure size 640x480 with 2 Axes>"
      ]
     },
     "metadata": {},
     "output_type": "display_data"
    }
   ],
   "source": [
    "# Calculate the confusion matrix\n",
    "import matplotlib.pyplot as plt\n",
    "from sklearn.metrics import confusion_matrix, ConfusionMatrixDisplay\n",
    "cm = confusion_matrix(true_labels, predicted_labels)\n",
    "disp = ConfusionMatrixDisplay(confusion_matrix=cm, display_labels=[0, 1])  # Assuming binary classification\n",
    "disp.plot(cmap=plt.cm.Blues)\n",
    "plt.title('Confusion Matrix')\n",
    "plt.show()"
   ]
  },
  {
   "cell_type": "code",
   "execution_count": null,
   "metadata": {},
   "outputs": [],
   "source": []
  }
 ],
 "metadata": {
  "kernelspec": {
   "display_name": "gpuenv",
   "language": "python",
   "name": "python3"
  },
  "language_info": {
   "codemirror_mode": {
    "name": "ipython",
    "version": 3
   },
   "file_extension": ".py",
   "mimetype": "text/x-python",
   "name": "python",
   "nbconvert_exporter": "python",
   "pygments_lexer": "ipython3",
   "version": "3.8.20"
  }
 },
 "nbformat": 4,
 "nbformat_minor": 2
}
